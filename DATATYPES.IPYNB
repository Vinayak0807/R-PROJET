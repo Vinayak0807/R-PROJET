{
 "cells": [
  {
   "cell_type": "code",
   "execution_count": 1,
   "id": "ee0aa5a5",
   "metadata": {
    "vscode": {
     "languageId": "r"
    }
   },
   "outputs": [],
   "source": [
    "#DATATYPES IN R\n",
    "# Numeric\n",
    "x <- 5.5\n",
    "# Integer\n",
    "y <- 5L \n",
    "# Character\n",
    "z <- \"Hello\"    \n",
    "# Logical\n",
    "a <- TRUE   \n",
    "# Complex\n",
    "b <- 3 + 2i\n",
    "# Raw\n",
    "c <- charToRaw(\"Hello\")"
   ]
  },
  {
   "cell_type": "code",
   "execution_count": 1,
   "id": "59945ca2",
   "metadata": {
    "vscode": {
     "languageId": "r"
    }
   },
   "outputs": [
    {
     "data": {
      "text/html": [
       "'double'"
      ],
      "text/latex": [
       "'double'"
      ],
      "text/markdown": [
       "'double'"
      ],
      "text/plain": [
       "[1] \"double\""
      ]
     },
     "metadata": {},
     "output_type": "display_data"
    },
    {
     "data": {
      "text/html": [
       "'numeric'"
      ],
      "text/latex": [
       "'numeric'"
      ],
      "text/markdown": [
       "'numeric'"
      ],
      "text/plain": [
       "[1] \"numeric\""
      ]
     },
     "metadata": {},
     "output_type": "display_data"
    }
   ],
   "source": [
    "NUM<- 200\n",
    "typeof(NUM)\n",
    "class(NUM) # \"numeric\")\n"
   ]
  },
  {
   "cell_type": "code",
   "execution_count": 2,
   "id": "41e952d8",
   "metadata": {
    "vscode": {
     "languageId": "r"
    }
   },
   "outputs": [
    {
     "ename": "ERROR",
     "evalue": "Error: object 'HELLO' not found\n",
     "output_type": "error",
     "traceback": [
      "Error: object 'HELLO' not found\nTraceback:\n"
     ]
    }
   ],
   "source": [
    "HELLO"
   ]
  }
 ],
 "metadata": {
  "kernelspec": {
   "display_name": "R",
   "language": "R",
   "name": "ir"
  },
  "language_info": {
   "codemirror_mode": "r",
   "file_extension": ".r",
   "mimetype": "text/x-r-source",
   "name": "R",
   "pygments_lexer": "r",
   "version": "4.5.1"
  }
 },
 "nbformat": 4,
 "nbformat_minor": 5
}
