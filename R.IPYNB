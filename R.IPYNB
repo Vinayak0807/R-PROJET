{
 "cells": [
  {
   "cell_type": "code",
   "execution_count": 3,
   "id": "307d6742",
   "metadata": {
    "vscode": {
     "languageId": "r"
    }
   },
   "outputs": [
    {
     "ename": "ERROR",
     "evalue": "Error in PRINT(C): could not find function \"PRINT\"\n",
     "output_type": "error",
     "traceback": [
      "Error in PRINT(C): could not find function \"PRINT\"\nTraceback:\n"
     ]
    }
   ],
   "source": [
    "A = 200\n",
    "B= 300\n",
    "C = A+B\n",
    "PRINT(C)"
   ]
  },
  {
   "cell_type": "code",
   "execution_count": 4,
   "id": "38cfb296",
   "metadata": {
    "vscode": {
     "languageId": "r"
    }
   },
   "outputs": [
    {
     "name": "stdout",
     "output_type": "stream",
     "text": [
      "[1] 500\n"
     ]
    }
   ],
   "source": [
    "A <- 200\n",
    "B <- 300\n",
    "C <- A + B\n",
    "print(C)"
   ]
  }
 ],
 "metadata": {
  "kernelspec": {
   "display_name": "R",
   "language": "R",
   "name": "ir"
  },
  "language_info": {
   "codemirror_mode": "r",
   "file_extension": ".r",
   "mimetype": "text/x-r-source",
   "name": "R",
   "pygments_lexer": "r",
   "version": "4.5.1"
  }
 },
 "nbformat": 4,
 "nbformat_minor": 5
}
